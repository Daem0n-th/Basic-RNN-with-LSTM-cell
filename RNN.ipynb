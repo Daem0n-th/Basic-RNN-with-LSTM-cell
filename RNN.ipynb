{
 "cells": [
  {
   "cell_type": "markdown",
   "metadata": {},
   "source": [
    "# RNN"
   ]
  },
  {
   "cell_type": "code",
   "execution_count": 1,
   "metadata": {},
   "outputs": [],
   "source": [
    "import numpy as np\n",
    "import tensorflow as tf\n",
    "import matplotlib.pyplot as plt\n",
    "%matplotlib inline"
   ]
  },
  {
   "cell_type": "code",
   "execution_count": 2,
   "metadata": {},
   "outputs": [],
   "source": [
    "class time_series_data():\n",
    "    def __init__(self,num_points,xmin,xmax):\n",
    "        self.xmin=xmin\n",
    "        self.xmax=xmax\n",
    "        self.num_points=num_points\n",
    "        self.resolution=(xmax-xmin)/num_points\n",
    "        self.x_data=np.linspace(xmin,xmax,num_points)\n",
    "        self.y_true=np.sin(self.x_data)\n",
    "    \n",
    "    def ret_true(self,x_series):\n",
    "        return np.sin(x_series)\n",
    "    \n",
    "    def next_batch(self,batch_size,steps,return_ts=False):\n",
    "        rand_start = np.random.rand(batch_size,1)\n",
    "        ts_start = rand_start * (self.xmax - self.xmin - self.resolution*steps)\n",
    "        batch_ts = ts_start + np.arange(0.0,steps+1)*self.resolution\n",
    "        y_batch = np.sin(batch_ts)\n",
    "        if return_ts:\n",
    "            return y_batch[:,:-1].reshape(-1,steps,1) , y_batch[:,1:].reshape(-1,steps,1) , batch_ts\n",
    "        else :\n",
    "            return y_batch[:,:-1].reshape(-1,steps,1) , y_batch[:,1:].reshape(-1,steps,1)"
   ]
  },
  {
   "cell_type": "code",
   "execution_count": 3,
   "metadata": {},
   "outputs": [],
   "source": [
    "ts_data = time_series_data(250,0,10)"
   ]
  },
  {
   "cell_type": "markdown",
   "metadata": {},
   "source": [
    "## MODEL"
   ]
  },
  {
   "cell_type": "code",
   "execution_count": 4,
   "metadata": {
    "collapsed": true
   },
   "outputs": [],
   "source": [
    "tf.reset_default_graph()"
   ]
  },
  {
   "cell_type": "code",
   "execution_count": 5,
   "metadata": {
    "collapsed": true
   },
   "outputs": [],
   "source": [
    "neurons = 100\n",
    "inputs = 1\n",
    "outputs = 1\n",
    "learning_rate = 0.001\n",
    "training_iterations = 5000\n",
    "num_time_steps = 30\n",
    "batch_size = 10"
   ]
  },
  {
   "cell_type": "code",
   "execution_count": 6,
   "metadata": {
    "collapsed": true
   },
   "outputs": [],
   "source": [
    "X = tf.placeholder(tf.float32,[None,num_time_steps,inputs])\n",
    "Y = tf.placeholder(tf.float32,[None ,num_time_steps, outputs])"
   ]
  },
  {
   "cell_type": "code",
   "execution_count": 7,
   "metadata": {},
   "outputs": [],
   "source": [
    "layer = tf.contrib.rnn.BasicLSTMCell(neurons,activation=tf.nn.relu)\n",
    "cell_layer = tf.contrib.rnn.OutputProjectionWrapper(layer,output_size=1)"
   ]
  },
  {
   "cell_type": "code",
   "execution_count": 8,
   "metadata": {},
   "outputs": [],
   "source": [
    "output,states = tf.nn.dynamic_rnn(cell_layer,X,dtype=tf.float32)"
   ]
  },
  {
   "cell_type": "code",
   "execution_count": 9,
   "metadata": {},
   "outputs": [],
   "source": [
    "mse = tf.reduce_mean(tf.square(output-Y))"
   ]
  },
  {
   "cell_type": "code",
   "execution_count": 10,
   "metadata": {},
   "outputs": [],
   "source": [
    "optimizer = tf.train.AdamOptimizer(learning_rate)\n",
    "train = optimizer.minimize(mse)"
   ]
  },
  {
   "cell_type": "code",
   "execution_count": 11,
   "metadata": {
    "collapsed": true
   },
   "outputs": [],
   "source": [
    "init = tf.global_variables_initializer()"
   ]
  },
  {
   "cell_type": "code",
   "execution_count": 12,
   "metadata": {
    "collapsed": true
   },
   "outputs": [],
   "source": [
    "saver = tf.train.Saver()"
   ]
  },
  {
   "cell_type": "markdown",
   "metadata": {},
   "source": [
    "## TRAINING"
   ]
  },
  {
   "cell_type": "code",
   "execution_count": 13,
   "metadata": {},
   "outputs": [
    {
     "name": "stdout",
     "output_type": "stream",
     "text": [
      "At 0 loss 0.6024690866470337\n",
      "At 100 loss 0.023857872933149338\n",
      "At 200 loss 0.013875223696231842\n",
      "At 300 loss 0.008808682672679424\n",
      "At 400 loss 0.007920158095657825\n",
      "At 500 loss 0.0036199952010065317\n",
      "At 600 loss 0.0018344088457524776\n",
      "At 700 loss 0.0007596572977490723\n",
      "At 800 loss 0.00046953579294495285\n",
      "At 900 loss 0.0001488620473537594\n",
      "At 1000 loss 0.00015700169024057686\n",
      "At 1100 loss 0.00013137426867615432\n",
      "At 1200 loss 0.00015933782560750842\n",
      "At 1300 loss 0.0001049526545102708\n",
      "At 1400 loss 9.70733817666769e-05\n",
      "At 1500 loss 7.772676326567307e-05\n",
      "At 1600 loss 0.00012899925059173256\n",
      "At 1700 loss 0.00013784406473860145\n",
      "At 1800 loss 9.971217514248565e-05\n",
      "At 1900 loss 9.309197776019573e-05\n",
      "At 2000 loss 3.8492376916110516e-05\n",
      "At 2100 loss 0.00010341285087633878\n",
      "At 2200 loss 0.00018282263772562146\n",
      "At 2300 loss 6.414378731278703e-05\n",
      "At 2400 loss 8.60155705595389e-05\n",
      "At 2500 loss 8.433884067926556e-05\n",
      "At 2600 loss 9.529497765470296e-05\n",
      "At 2700 loss 6.052430035197176e-05\n",
      "At 2800 loss 5.7235200074501336e-05\n",
      "At 2900 loss 5.8606739912647754e-05\n",
      "At 3000 loss 7.746121264062822e-05\n",
      "At 3100 loss 6.942303298274055e-05\n",
      "At 3200 loss 4.3107338569825515e-05\n",
      "At 3300 loss 6.941570609342307e-05\n",
      "At 3400 loss 5.497326492331922e-05\n",
      "At 3500 loss 5.2114799473201856e-05\n",
      "At 3600 loss 2.7709296773537062e-05\n",
      "At 3700 loss 6.619741179747507e-05\n",
      "At 3800 loss 6.035664409864694e-05\n",
      "At 3900 loss 6.075091732782312e-05\n",
      "At 4000 loss 0.00033941451692953706\n",
      "At 4100 loss 6.224789103725925e-05\n",
      "At 4200 loss 7.79897382017225e-05\n",
      "At 4300 loss 4.922625157632865e-05\n",
      "At 4400 loss 4.210738916299306e-05\n",
      "At 4500 loss 6.284801929723471e-05\n",
      "At 4600 loss 5.4065443691797554e-05\n",
      "At 4700 loss 6.0215857956791297e-05\n",
      "At 4800 loss 0.00010533326712902635\n",
      "At 4900 loss 5.5784905271138996e-05\n"
     ]
    }
   ],
   "source": [
    "with tf.Session() as sess:\n",
    "    sess.run(init)\n",
    "    for i in range(training_iterations):\n",
    "        batch_x,batch_y = ts_data.next_batch(batch_size,num_time_steps)\n",
    "        sess.run(train,feed_dict={X:batch_x,Y:batch_y})\n",
    "        if i%100==0:\n",
    "            loss = mse.eval(feed_dict={X:batch_x,Y:batch_y})\n",
    "            print('At {} loss {}'.format(i,loss))\n",
    "    saver.save(sess,'./rnn_time_series_sin')"
   ]
  },
  {
   "cell_type": "markdown",
   "metadata": {},
   "source": [
    "## TESTING"
   ]
  },
  {
   "cell_type": "code",
   "execution_count": 14,
   "metadata": {},
   "outputs": [
    {
     "name": "stdout",
     "output_type": "stream",
     "text": [
      "INFO:tensorflow:Restoring parameters from ./rnn_time_series_sin\n"
     ]
    }
   ],
   "source": [
    "with tf.Session() as sess:\n",
    "    saver.restore(sess,'./rnn_time_series_sin')\n",
    "    x_=np.linspace(0,3,num_time_steps + 1)\n",
    "    x_ls=x_[:-1].reshape(1,-1,1)\n",
    "    x_rs=x_[1:].reshape(1,-1,1)\n",
    "    y_p = np.sin(x_ls)\n",
    "    #y_t = np.sin(x_rs)\n",
    "    y_pred = sess.run(output,feed_dict={X:y_p})"
   ]
  },
  {
   "cell_type": "code",
   "execution_count": 15,
   "metadata": {},
   "outputs": [
    {
     "data": {
      "text/plain": [
       "[<matplotlib.lines.Line2D at 0x1b0ef60cf60>]"
      ]
     },
     "execution_count": 15,
     "metadata": {},
     "output_type": "execute_result"
    },
    {
     "data": {
      "image/png": "[encoded data removed]",
      "text/plain": [
       "<matplotlib.figure.Figure at 0x1b0ef60cc50>"
      ]
     },
     "metadata": {},
     "output_type": "display_data"
    }
   ],
   "source": [
    "plt.plot(x_ls.flatten(),y_p.flatten())\n",
    "plt.plot(x_rs.flatten(),y_pred.flatten())\n",
    "#plt.plot(ts.flatten()[1:],y1.flatten(),'*')"
   ]
  },
  {
   "cell_type": "code",
   "execution_count": null,
   "metadata": {
    "collapsed": true
   },
   "outputs": [],
   "source": []
  }
 ],
 "metadata": {
  "kernelspec": {
   "display_name": "Python 3",
   "language": "python",
   "name": "python3"
  },
  "language_info": {
   "codemirror_mode": {
    "name": "ipython",
    "version": 3
   },
   "file_extension": ".py",
   "mimetype": "text/x-python",
   "name": "python",
   "nbconvert_exporter": "python",
   "pygments_lexer": "ipython3",
   "version": "3.5.4"
  }
 },
 "nbformat": 4,
 "nbformat_minor": 2
}
