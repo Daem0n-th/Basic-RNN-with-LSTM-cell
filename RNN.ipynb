{
 "cells": [
  {
   "cell_type": "markdown",
   "metadata": {},
   "source": [
    "# RNN"
   ]
  },
  {
   "cell_type": "code",
   "execution_count": 1,
   "metadata": {
    "collapsed": true
   },
   "outputs": [],
   "source": [
    "import numpy as np\n",
    "import tensorflow as tf\n",
    "import matplotlib.pyplot as plt\n",
    "%matplotlib inline"
   ]
  },
  {
   "cell_type": "markdown",
   "metadata": {},
   "source": [
    "## PREPROCESSING"
   ]
  },
  {
   "cell_type": "code",
   "execution_count": 2,
   "metadata": {
    "collapsed": true
   },
   "outputs": [],
   "source": [
    "class time_series_data():\n",
    "    def __init__(self,num_points,xmin,xmax):\n",
    "        self.xmin=xmin\n",
    "        self.xmax=xmax\n",
    "        self.num_points=num_points\n",
    "        self.resolution=(xmax-xmin)/num_points\n",
    "        self.x_data=np.linspace(xmin,xmax,num_points)\n",
    "        self.y_true=np.sin(self.x_data)\n",
    "    \n",
    "    def ret_true(self,x_series):\n",
    "        return np.sin(x_series)\n",
    "    \n",
    "    def next_batch(self,batch_size,steps,return_ts=False):\n",
    "        rand_start = np.random.rand(batch_size,1)\n",
    "        ts_start = rand_start * (self.xmax - self.xmin - self.resolution*steps)\n",
    "        batch_ts = ts_start + np.arange(0.0,steps+1)*self.resolution\n",
    "        y_batch = np.sin(batch_ts)\n",
    "        if return_ts:\n",
    "            return y_batch[:,:-1].reshape(-1,steps,1) , y_batch[:,1:].reshape(-1,steps,1) , batch_ts\n",
    "        else :\n",
    "            return y_batch[:,:-1].reshape(-1,steps,1) , y_batch[:,1:].reshape(-1,steps,1)"
   ]
  },
  {
   "cell_type": "code",
   "execution_count": 3,
   "metadata": {
    "collapsed": true
   },
   "outputs": [],
   "source": [
    "ts_data = time_series_data(250,0,10)"
   ]
  },
  {
   "cell_type": "markdown",
   "metadata": {},
   "source": [
    "## MODEL"
   ]
  },
  {
   "cell_type": "code",
   "execution_count": 4,
   "metadata": {
    "collapsed": true
   },
   "outputs": [],
   "source": [
    "tf.reset_default_graph()"
   ]
  },
  {
   "cell_type": "code",
   "execution_count": 5,
   "metadata": {
    "collapsed": true
   },
   "outputs": [],
   "source": [
    "neurons = 100\n",
    "inputs = 1\n",
    "outputs = 1\n",
    "learning_rate = 0.001\n",
    "training_iterations = 5000\n",
    "num_time_steps = 30\n",
    "batch_size = 10"
   ]
  },
  {
   "cell_type": "code",
   "execution_count": 6,
   "metadata": {
    "collapsed": true
   },
   "outputs": [],
   "source": [
    "X = tf.placeholder(tf.float32,[None,num_time_steps,inputs])\n",
    "Y = tf.placeholder(tf.float32,[None ,num_time_steps, outputs])"
   ]
  },
  {
   "cell_type": "code",
   "execution_count": 7,
   "metadata": {
    "collapsed": true
   },
   "outputs": [],
   "source": [
    "layer = tf.contrib.rnn.BasicLSTMCell(neurons,activation=tf.nn.relu)\n",
    "cell_layer = tf.contrib.rnn.OutputProjectionWrapper(layer,output_size=1)"
   ]
  },
  {
   "cell_type": "code",
   "execution_count": 8,
   "metadata": {
    "collapsed": true
   },
   "outputs": [],
   "source": [
    "output,states = tf.nn.dynamic_rnn(cell_layer,X,dtype=tf.float32)"
   ]
  },
  {
   "cell_type": "code",
   "execution_count": 9,
   "metadata": {
    "collapsed": true
   },
   "outputs": [],
   "source": [
    "mse = tf.reduce_mean(tf.square(output-Y))"
   ]
  },
  {
   "cell_type": "code",
   "execution_count": 10,
   "metadata": {
    "collapsed": true
   },
   "outputs": [],
   "source": [
    "optimizer = tf.train.AdamOptimizer(learning_rate)\n",
    "train = optimizer.minimize(mse)"
   ]
  },
  {
   "cell_type": "code",
   "execution_count": 11,
   "metadata": {
    "collapsed": true
   },
   "outputs": [],
   "source": [
    "init = tf.global_variables_initializer()"
   ]
  },
  {
   "cell_type": "code",
   "execution_count": 12,
   "metadata": {
    "collapsed": true
   },
   "outputs": [],
   "source": [
    "saver = tf.train.Saver()"
   ]
  },
  {
   "cell_type": "markdown",
   "metadata": {},
   "source": [
    "## TRAINING"
   ]
  },
  {
   "cell_type": "code",
   "execution_count": 13,
   "metadata": {},
   "outputs": [
    {
     "name": "stdout",
     "output_type": "stream",
     "text": [
      "At 0 loss 0.30919015407562256\n",
      "At 100 loss 0.02344156987965107\n",
      "At 200 loss 0.010441867634654045\n",
      "At 300 loss 0.008679197169840336\n",
      "At 400 loss 0.003179664723575115\n",
      "At 500 loss 0.00410083495080471\n",
      "At 600 loss 0.0023027737624943256\n",
      "At 700 loss 0.0005272497655823827\n",
      "At 800 loss 0.00018277311755809933\n",
      "At 900 loss 0.00010106027184519917\n",
      "At 1000 loss 0.00010190453758696094\n",
      "At 1100 loss 8.489743049722165e-05\n",
      "At 1200 loss 6.375743396347389e-05\n",
      "At 1300 loss 0.00010453384311404079\n",
      "At 1400 loss 0.00011826795525848866\n",
      "At 1500 loss 0.00013905063678976148\n",
      "At 1600 loss 7.458421896444634e-05\n",
      "At 1700 loss 7.009646651567891e-05\n",
      "At 1800 loss 9.067392238648608e-05\n",
      "At 1900 loss 8.365872054127976e-05\n",
      "At 2000 loss 3.426771581871435e-05\n",
      "At 2100 loss 4.3199641368119046e-05\n",
      "At 2200 loss 9.89873442449607e-05\n",
      "At 2300 loss 9.641366341384128e-05\n",
      "At 2400 loss 6.273132748901844e-05\n",
      "At 2500 loss 6.074050907045603e-05\n",
      "At 2600 loss 6.906339694978669e-05\n",
      "At 2700 loss 3.737286169780418e-05\n",
      "At 2800 loss 5.7592595112510026e-05\n",
      "At 2900 loss 3.468530121608637e-05\n",
      "At 3000 loss 7.845390064176172e-05\n",
      "At 3100 loss 5.7660756283439696e-05\n",
      "At 3200 loss 6.214604945853353e-05\n",
      "At 3300 loss 4.633122080122121e-05\n",
      "At 3400 loss 6.5440202888567e-05\n",
      "At 3500 loss 3.40901424351614e-05\n",
      "At 3600 loss 4.020604683319107e-05\n",
      "At 3700 loss 7.194805220933631e-05\n",
      "At 3800 loss 7.52911510062404e-05\n",
      "At 3900 loss 6.415716779883951e-05\n",
      "At 4000 loss 6.51613954687491e-05\n",
      "At 4100 loss 6.188316910993308e-05\n",
      "At 4200 loss 6.239855429157615e-05\n",
      "At 4300 loss 3.677546192193404e-05\n",
      "At 4400 loss 0.00016608626174274832\n",
      "At 4500 loss 4.096474367543124e-05\n",
      "At 4600 loss 2.1613677745335735e-05\n",
      "At 4700 loss 4.460477430257015e-05\n",
      "At 4800 loss 4.37224043707829e-05\n",
      "At 4900 loss 0.00010918557381955907\n"
     ]
    }
   ],
   "source": [
    "with tf.Session() as sess:\n",
    "    sess.run(init)\n",
    "    for i in range(training_iterations):\n",
    "        batch_x,batch_y = ts_data.next_batch(batch_size,num_time_steps)\n",
    "        sess.run(train,feed_dict={X:batch_x,Y:batch_y})\n",
    "        if i%100==0:\n",
    "            loss = mse.eval(feed_dict={X:batch_x,Y:batch_y})\n",
    "            print('At {} loss {}'.format(i,loss))\n",
    "    saver.save(sess,'./rnn_time_series_sin')"
   ]
  },
  {
   "cell_type": "markdown",
   "metadata": {},
   "source": [
    "## TESTING"
   ]
  },
  {
   "cell_type": "code",
   "execution_count": 14,
   "metadata": {},
   "outputs": [
    {
     "name": "stdout",
     "output_type": "stream",
     "text": [
      "INFO:tensorflow:Restoring parameters from ./rnn_time_series_sin\n"
     ]
    }
   ],
   "source": [
    "with tf.Session() as sess:\n",
    "    saver.restore(sess,'./rnn_time_series_sin')\n",
    "    x_=np.linspace(0,3,num_time_steps + 1)\n",
    "    x_ls=x_[:-1].reshape(1,-1,1)\n",
    "    x_rs=x_[1:].reshape(1,-1,1)\n",
    "    y_p = np.sin(x_ls)\n",
    "    #y_t = np.sin(x_rs)\n",
    "    y_pred = sess.run(output,feed_dict={X:y_p})"
   ]
  },
  {
   "cell_type": "code",
   "execution_count": 15,
   "metadata": {},
   "outputs": [
    {
     "data": {
      "text/plain": [
       "[<matplotlib.lines.Line2D at 0x20c190f0d30>]"
      ]
     },
     "execution_count": 15,
     "metadata": {},
     "output_type": "execute_result"
    },
    {
     "data": {
      "image/png": "[encoded data removed]",
      "text/plain": [
       "<matplotlib.figure.Figure at 0x20c190f05f8>"
      ]
     },
     "metadata": {},
     "output_type": "display_data"
    }
   ],
   "source": [
    "plt.plot(x_ls.flatten(),y_p.flatten())\n",
    "plt.plot(x_rs.flatten(),y_pred.flatten())"
   ]
  },
  {
   "cell_type": "markdown",
   "metadata": {
    "collapsed": true
   },
   "source": [
    "## GENERATING NEW SEQUENCES"
   ]
  },
  {
   "cell_type": "code",
   "execution_count": 16,
   "metadata": {},
   "outputs": [
    {
     "name": "stdout",
     "output_type": "stream",
     "text": [
      "INFO:tensorflow:Restoring parameters from ./rnn_time_series_sin\n"
     ]
    }
   ],
   "source": [
    "with tf.Session() as sess:\n",
    "    saver.restore(sess,'./rnn_time_series_sin')\n",
    "    x_g = np.linspace(0,10,200)\n",
    "    y_g = np.sin(x_g)\n",
    "    y_list = list(y_g[:num_time_steps])\n",
    "    for i in range(200-num_time_steps):\n",
    "        x_batch = np.array(y_list[-num_time_steps:]).reshape(1,num_time_steps,1)\n",
    "        y_pred = sess.run(output,feed_dict={X:x_batch})\n",
    "        y_list.append(y_pred.flatten()[-1])"
   ]
  },
  {
   "cell_type": "code",
   "execution_count": 17,
   "metadata": {},
   "outputs": [
    {
     "data": {
      "text/plain": [
       "[<matplotlib.lines.Line2D at 0x20c1c089470>]"
      ]
     },
     "execution_count": 17,
     "metadata": {},
     "output_type": "execute_result"
    },
    {
     "data": {
      "image/png": "[encoded data removed]",
      "text/plain": [
       "<matplotlib.figure.Figure at 0x20c1c15be48>"
      ]
     },
     "metadata": {},
     "output_type": "display_data"
    }
   ],
   "source": [
    "plt.plot(x_g[:num_time_steps],y_g[:num_time_steps],'r*')\n",
    "plt.plot(x_g,y_list)"
   ]
  },
  {
   "cell_type": "code",
   "execution_count": null,
   "metadata": {
    "collapsed": true
   },
   "outputs": [],
   "source": []
  }
 ],
 "metadata": {
  "kernelspec": {
   "display_name": "Python 3",
   "language": "python",
   "name": "python3"
  },
  "language_info": {
   "codemirror_mode": {
    "name": "ipython",
    "version": 3
   },
   "file_extension": ".py",
   "mimetype": "text/x-python",
   "name": "python",
   "nbconvert_exporter": "python",
   "pygments_lexer": "ipython3",
   "version": "3.5.4"
  }
 },
 "nbformat": 4,
 "nbformat_minor": 2
}
